{
  "cells": [
    {
      "cell_type": "code",
      "execution_count": null,
      "metadata": {
        "application/vnd.databricks.v1+cell": {
          "cellMetadata": {
            "byteLimit": 2048000,
            "rowLimit": 10000
          },
          "inputWidgets": {},
          "nuid": "9cb06264-6862-46fa-92d4-c3df357379bf",
          "showTitle": false,
          "tableResultSettingsMap": {},
          "title": ""
        },
        "colab": {
          "base_uri": "https://localhost:8080/"
        },
        "id": "YjJnbvACJzCj",
        "outputId": "ea8be9aa-3cc5-4252-d14e-200666ec95c8"
      },
      "outputs": [
        {
          "output_type": "stream",
          "name": "stdout",
          "text": [
            "Collecting praw\n  Downloading praw-7.8.1-py3-none-any.whl.metadata (9.4 kB)\nCollecting prawcore<3,>=2.4 (from praw)\n  Downloading prawcore-2.4.0-py3-none-any.whl.metadata (5.0 kB)\nCollecting update_checker>=0.18 (from praw)\n  Downloading update_checker-0.18.0-py3-none-any.whl.metadata (2.3 kB)\nCollecting websocket-client>=0.54.0 (from praw)\n  Downloading websocket_client-1.8.0-py3-none-any.whl.metadata (8.0 kB)\nRequirement already satisfied: requests<3.0,>=2.6.0 in /databricks/python3/lib/python3.11/site-packages (from prawcore<3,>=2.4->praw) (2.31.0)\nRequirement already satisfied: charset-normalizer<4,>=2 in /databricks/python3/lib/python3.11/site-packages (from requests<3.0,>=2.6.0->prawcore<3,>=2.4->praw) (2.0.4)\nRequirement already satisfied: idna<4,>=2.5 in /databricks/python3/lib/python3.11/site-packages (from requests<3.0,>=2.6.0->prawcore<3,>=2.4->praw) (3.4)\nRequirement already satisfied: urllib3<3,>=1.21.1 in /databricks/python3/lib/python3.11/site-packages (from requests<3.0,>=2.6.0->prawcore<3,>=2.4->praw) (1.26.16)\nRequirement already satisfied: certifi>=2017.4.17 in /databricks/python3/lib/python3.11/site-packages (from requests<3.0,>=2.6.0->prawcore<3,>=2.4->praw) (2023.7.22)\nDownloading praw-7.8.1-py3-none-any.whl (189 kB)\nDownloading prawcore-2.4.0-py3-none-any.whl (17 kB)\nDownloading update_checker-0.18.0-py3-none-any.whl (7.0 kB)\nDownloading websocket_client-1.8.0-py3-none-any.whl (58 kB)\nInstalling collected packages: websocket-client, update_checker, prawcore, praw\nSuccessfully installed praw-7.8.1 prawcore-2.4.0 update_checker-0.18.0 websocket-client-1.8.0\n\u001b[43mNote: you may need to restart the kernel using %restart_python or dbutils.library.restartPython() to use updated packages.\u001b[0m\n"
          ]
        }
      ],
      "source": [
        "!pip install praw"
      ]
    },
    {
      "cell_type": "code",
      "execution_count": null,
      "metadata": {
        "application/vnd.databricks.v1+cell": {
          "cellMetadata": {
            "byteLimit": 2048000,
            "rowLimit": 10000
          },
          "inputWidgets": {},
          "nuid": "a3fad3e5-ffc2-4a8d-8d08-9124c4197f3b",
          "showTitle": false,
          "tableResultSettingsMap": {},
          "title": ""
        },
        "id": "7kN-nkPywEWF",
        "outputId": "18990de9-e646-4907-c096-31133732f46c"
      },
      "outputs": [
        {
          "output_type": "stream",
          "name": "stdout",
          "text": [
            "Requirement already satisfied: pyarrow in /databricks/python3/lib/python3.11/site-packages (14.0.1)\nRequirement already satisfied: numpy>=1.16.6 in /databricks/python3/lib/python3.11/site-packages (from pyarrow) (1.23.5)\n\u001b[43mNote: you may need to restart the kernel using %restart_python or dbutils.library.restartPython() to use updated packages.\u001b[0m\n"
          ]
        }
      ],
      "source": [
        "!pip install pyarrow"
      ]
    },
    {
      "cell_type": "code",
      "execution_count": null,
      "metadata": {
        "application/vnd.databricks.v1+cell": {
          "cellMetadata": {},
          "inputWidgets": {},
          "nuid": "82c29e3a-692c-406a-9743-d4e44272c036",
          "showTitle": false,
          "tableResultSettingsMap": {},
          "title": ""
        },
        "id": "o3VWaFRIKPsw"
      },
      "outputs": [],
      "source": [
        "import praw\n",
        "import pandas as pd"
      ]
    },
    {
      "cell_type": "code",
      "execution_count": null,
      "metadata": {
        "application/vnd.databricks.v1+cell": {
          "cellMetadata": {},
          "inputWidgets": {},
          "nuid": "e27f6422-7320-48a7-954d-7cd50015c0ad",
          "showTitle": false,
          "tableResultSettingsMap": {},
          "title": ""
        },
        "colab": {
          "base_uri": "https://localhost:8080/"
        },
        "id": "mheKfUbsghPT",
        "outputId": "9170a79d-d003-4a19-800a-c70d6cb95e90"
      },
      "outputs": [
        {
          "output_type": "stream",
          "name": "stdout",
          "text": [
            "True\n"
          ]
        }
      ],
      "source": [
        "# Connect to Reddit API\n",
        "reddit = praw.Reddit(\n",
        "    client_id= CLIENT_ID,\n",
        "    client_secret= CLIENT_SECRET,\n",
        "    user_agent= USER_AGENT\n",
        "\n",
        ")\n",
        "print(reddit.read_only) # fetch data without posting or modifying"
      ]
    },
    {
      "cell_type": "code",
      "execution_count": null,
      "metadata": {
        "application/vnd.databricks.v1+cell": {
          "cellMetadata": {},
          "inputWidgets": {},
          "nuid": "a1adf6e7-927d-4170-82c8-a162962519d5",
          "showTitle": false,
          "tableResultSettingsMap": {},
          "title": ""
        },
        "id": "HNupK0TI21JY"
      },
      "outputs": [],
      "source": [
        "# Select the \"technology\" subreddit to work with\n",
        "\n",
        "subreddit = reddit.subreddit(\"technology\")"
      ]
    },
    {
      "cell_type": "code",
      "execution_count": null,
      "metadata": {
        "application/vnd.databricks.v1+cell": {
          "cellMetadata": {},
          "inputWidgets": {},
          "nuid": "89526636-da8d-487c-8373-d5257d89dbb5",
          "showTitle": false,
          "tableResultSettingsMap": {},
          "title": ""
        },
        "colab": {
          "base_uri": "https://localhost:8080/"
        },
        "id": "DieoyUFY6AhT",
        "outputId": "0bef682c-b5f8-423f-a629-3e40fbfaec1c"
      },
      "outputs": [
        {
          "output_type": "stream",
          "name": "stderr",
          "text": [
            "WARNING:praw:It appears that you are using PRAW in an asynchronous environment.\nIt is strongly recommended to use Async PRAW: https://asyncpraw.readthedocs.io.\nSee https://praw.readthedocs.io/en/latest/getting_started/multiple_instances.html#discord-bots-and-asynchronous-environments for more info.\n\n"
          ]
        },
        {
          "output_type": "stream",
          "name": "stdout",
          "text": [
            "<class 'str'>\n<class 'str'>\n<class 'praw.models.reddit.redditor.Redditor'>\n<class 'int'>\n<class 'int'>\n<class 'float'>\n<class 'str'>\n<class 'praw.models.reddit.subreddit.Subreddit'>\n"
          ]
        }
      ],
      "source": [
        "#checking datatypes of the fields\n",
        "for submission in subreddit.hot(limit=1):\n",
        "  print(type(submission.id))\n",
        "  print(type(submission.title))\n",
        "  print(type(submission.author))\n",
        "  print(type(submission.score))\n",
        "  print(type(submission.num_comments))\n",
        "  print(type(submission.created_utc))\n",
        "  print(type(submission.selftext))\n",
        "  print(type(submission.subreddit))"
      ]
    },
    {
      "cell_type": "code",
      "execution_count": null,
      "metadata": {
        "application/vnd.databricks.v1+cell": {
          "cellMetadata": {},
          "inputWidgets": {},
          "nuid": "494b6c0c-f5fb-41bf-b6e2-da33b6fb691d",
          "showTitle": false,
          "tableResultSettingsMap": {},
          "title": ""
        },
        "colab": {
          "base_uri": "https://localhost:8080/"
        },
        "id": "CWuY5ZJahVRq",
        "outputId": "2c211cc9-9722-40ce-dcd5-20ac6cfc176e"
      },
      "outputs": [
        {
          "output_type": "stream",
          "name": "stderr",
          "text": [
            "WARNING:praw:It appears that you are using PRAW in an asynchronous environment.\nIt is strongly recommended to use Async PRAW: https://asyncpraw.readthedocs.io.\nSee https://praw.readthedocs.io/en/latest/getting_started/multiple_instances.html#discord-bots-and-asynchronous-environments for more info.\n\n"
          ]
        },
        {
          "output_type": "stream",
          "name": "stdout",
          "text": [
            "        id                                              title  \\\n0  1mniom8             Reddit will block the Internet Archive   \n1  1mn95cp  A massive Wyoming data center will soon use 5x...   \n2  1mnghv6  RFK Jr. wants a wearable on every American — t...   \n3  1mngvle  GitHub is no longer independent at Microsoft a...   \n4  1mnekv7  Ford Aims for Revolution With $30,000 Electric...   \n\n               author  score  num_comments   created_utc selftext   subreddit  \n0  MarvelsGrantMan136  15679          1232  1.754932e+09           technology  \n1        DJMagicHandz  24928          1520  1.754907e+09           technology  \n2          DonkeyFuel   3133           436  1.754927e+09           technology  \n3         TheOneByron   1173            85  1.754928e+09           technology  \n4          DonkeyFuel   1391           337  1.754923e+09           technology  \n"
          ]
        }
      ],
      "source": [
        "# List to store post data\n",
        "posts_data = []\n",
        "\n",
        "# Fetch hot posts\n",
        "for submission in subreddit.hot(limit=10):\n",
        "    posts_data.append({\n",
        "        \"id\": submission.id,\n",
        "        \"title\": submission.title,\n",
        "        \"author\": str(submission.author),\n",
        "        \"score\": submission.score,\n",
        "        \"num_comments\": submission.num_comments,\n",
        "        \"created_utc\": submission.created_utc,\n",
        "        \"selftext\": submission.selftext,\n",
        "        \"subreddit\": str(submission.subreddit)\n",
        "    })\n",
        "\n",
        "posts_df = pd.DataFrame(posts_data)\n",
        "\n",
        "print(posts_df.head())"
      ]
    },
    {
      "cell_type": "code",
      "execution_count": null,
      "metadata": {
        "application/vnd.databricks.v1+cell": {
          "cellMetadata": {},
          "inputWidgets": {},
          "nuid": "48491b7e-7754-4be6-81a2-cae6af73b5a5",
          "showTitle": false,
          "tableResultSettingsMap": {},
          "title": ""
        },
        "colab": {
          "base_uri": "https://localhost:8080/"
        },
        "id": "2PKMzFzWBT84",
        "outputId": "00e4b4a3-811d-4923-f344-7caf42721379"
      },
      "outputs": [
        {
          "output_type": "stream",
          "name": "stderr",
          "text": [
            "WARNING:praw:It appears that you are using PRAW in an asynchronous environment.\nIt is strongly recommended to use Async PRAW: https://asyncpraw.readthedocs.io.\nSee https://praw.readthedocs.io/en/latest/getting_started/multiple_instances.html#discord-bots-and-asynchronous-environments for more info.\n\nWARNING:praw:It appears that you are using PRAW in an asynchronous environment.\nIt is strongly recommended to use Async PRAW: https://asyncpraw.readthedocs.io.\nSee https://praw.readthedocs.io/en/latest/getting_started/multiple_instances.html#discord-bots-and-asynchronous-environments for more info.\n\nWARNING:praw:It appears that you are using PRAW in an asynchronous environment.\nIt is strongly recommended to use Async PRAW: https://asyncpraw.readthedocs.io.\nSee https://praw.readthedocs.io/en/latest/getting_started/multiple_instances.html#discord-bots-and-asynchronous-environments for more info.\n\nWARNING:praw:It appears that you are using PRAW in an asynchronous environment.\nIt is strongly recommended to use Async PRAW: https://asyncpraw.readthedocs.io.\nSee https://praw.readthedocs.io/en/latest/getting_started/multiple_instances.html#discord-bots-and-asynchronous-environments for more info.\n\nWARNING:praw:It appears that you are using PRAW in an asynchronous environment.\nIt is strongly recommended to use Async PRAW: https://asyncpraw.readthedocs.io.\nSee https://praw.readthedocs.io/en/latest/getting_started/multiple_instances.html#discord-bots-and-asynchronous-environments for more info.\n\nWARNING:praw:It appears that you are using PRAW in an asynchronous environment.\nIt is strongly recommended to use Async PRAW: https://asyncpraw.readthedocs.io.\nSee https://praw.readthedocs.io/en/latest/getting_started/multiple_instances.html#discord-bots-and-asynchronous-environments for more info.\n\nWARNING:praw:It appears that you are using PRAW in an asynchronous environment.\nIt is strongly recommended to use Async PRAW: https://asyncpraw.readthedocs.io.\nSee https://praw.readthedocs.io/en/latest/getting_started/multiple_instances.html#discord-bots-and-asynchronous-environments for more info.\n\nWARNING:praw:It appears that you are using PRAW in an asynchronous environment.\nIt is strongly recommended to use Async PRAW: https://asyncpraw.readthedocs.io.\nSee https://praw.readthedocs.io/en/latest/getting_started/multiple_instances.html#discord-bots-and-asynchronous-environments for more info.\n\nWARNING:praw:It appears that you are using PRAW in an asynchronous environment.\nIt is strongly recommended to use Async PRAW: https://asyncpraw.readthedocs.io.\nSee https://praw.readthedocs.io/en/latest/getting_started/multiple_instances.html#discord-bots-and-asynchronous-environments for more info.\n\nWARNING:praw:It appears that you are using PRAW in an asynchronous environment.\nIt is strongly recommended to use Async PRAW: https://asyncpraw.readthedocs.io.\nSee https://praw.readthedocs.io/en/latest/getting_started/multiple_instances.html#discord-bots-and-asynchronous-environments for more info.\n\nWARNING:praw:It appears that you are using PRAW in an asynchronous environment.\nIt is strongly recommended to use Async PRAW: https://asyncpraw.readthedocs.io.\nSee https://praw.readthedocs.io/en/latest/getting_started/multiple_instances.html#discord-bots-and-asynchronous-environments for more info.\n\n"
          ]
        },
        {
          "output_type": "stream",
          "name": "stdout",
          "text": [
            "        id                author  \\\n0  n853d05    JamesTiberiusCrunk   \n1  n852wwp   FollowingFeisty5321   \n2  n85718n           MyLovelyMan   \n3  n853ihn  extremetolerance2013   \n4  n855qr7   ParticularBeing6686   \n\n                                                body  score   created_utc  \\\n0  Entirely because they want to sell post data t...   7777  1.754932e+09   \n1  Outrageous, especially with how often posts, t...   7232  1.754932e+09   \n2  It’s no coincidence that in this year:\\n- Inte...   2410  1.754933e+09   \n3  So to protect this from AI, we must close it f...   1435  1.754932e+09   \n4  Someone should make a browser extension to cro...    485  1.754933e+09   \n\n    parent_id     link_id  \n0  t3_1mniom8  t3_1mniom8  \n1  t3_1mniom8  t3_1mniom8  \n2  t3_1mniom8  t3_1mniom8  \n3  t3_1mniom8  t3_1mniom8  \n4  t3_1mniom8  t3_1mniom8  \n"
          ]
        }
      ],
      "source": [
        "comments_data = []\n",
        "\n",
        "for submission in subreddit.hot(limit=10):\n",
        "    submission.comments.replace_more(limit=0) # Expand all hidden comments to get every comment and reply\n",
        "    for comment in submission.comments.list():\n",
        "        comments_data.append({\n",
        "            \"id\": comment.id,\n",
        "            \"author\": str(comment.author),\n",
        "            \"body\": comment.body,\n",
        "            \"score\": comment.score,\n",
        "            \"created_utc\": comment.created_utc,\n",
        "            \"parent_id\": comment.parent_id,\n",
        "            \"link_id\": comment.link_id\n",
        "        })\n",
        "\n",
        "comments_df = pd.DataFrame(comments_data)\n",
        "print(comments_df.head())"
      ]
    },
    {
      "cell_type": "code",
      "execution_count": null,
      "metadata": {
        "application/vnd.databricks.v1+cell": {
          "cellMetadata": {},
          "inputWidgets": {},
          "nuid": "0a78163b-25d1-41a7-a6b2-e8ef2f4791ea",
          "showTitle": false,
          "tableResultSettingsMap": {},
          "title": ""
        },
        "id": "zQ32jefIEQXM"
      },
      "outputs": [],
      "source": [
        "posts_df.to_parquet(\"/Volumes/workspace/default/raw/reddit_posts.parquet\", index=False, engine=\"pyarrow\")\n",
        "comments_df.to_parquet(\"/Volumes/workspace/default/raw/reddit_comments.parquet\", index=False, engine=\"pyarrow\")"
      ]
    }
  ],
  "metadata": {
    "application/vnd.databricks.v1+notebook": {
      "computePreferences": null,
      "dashboards": [],
      "environmentMetadata": null,
      "inputWidgetPreferences": null,
      "language": "python",
      "notebookMetadata": {
        "pythonIndentUnit": 4
      },
      "notebookName": "Reddit_Data_Ingestion_Script",
      "widgets": {}
    },
    "colab": {
      "provenance": []
    },
    "kernelspec": {
      "display_name": "Python 3",
      "name": "python3"
    },
    "language_info": {
      "name": "python"
    }
  },
  "nbformat": 4,
  "nbformat_minor": 0
}