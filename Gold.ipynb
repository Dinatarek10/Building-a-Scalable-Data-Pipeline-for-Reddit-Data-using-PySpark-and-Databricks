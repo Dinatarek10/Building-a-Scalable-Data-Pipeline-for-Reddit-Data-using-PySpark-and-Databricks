{
 "cells": [
  {
   "cell_type": "code",
   "execution_count": 0,
   "metadata": {
    "application/vnd.databricks.v1+cell": {
     "cellMetadata": {
      "byteLimit": 2048000,
      "rowLimit": 10000
     },
     "inputWidgets": {},
     "nuid": "a88c24c6-9838-40df-bb08-85522b066fd7",
     "showTitle": false,
     "tableResultSettingsMap": {},
     "title": ""
    }
   },
   "outputs": [],
   "source": [
    "posts_df = spark.table(\"workspace.default.posts_silver\")\n",
    "comments_df = spark.table(\"workspace.default.comments_silver\")"
   ]
  },
  {
   "cell_type": "code",
   "execution_count": 0,
   "metadata": {
    "application/vnd.databricks.v1+cell": {
     "cellMetadata": {
      "byteLimit": 2048000,
      "rowLimit": 10000
     },
     "inputWidgets": {},
     "nuid": "ccb43670-d64b-4b1a-af1d-b8ad01505d07",
     "showTitle": false,
     "tableResultSettingsMap": {},
     "title": ""
    }
   },
   "outputs": [],
   "source": [
    "from pyspark.sql.functions import *"
   ]
  },
  {
   "cell_type": "code",
   "execution_count": 0,
   "metadata": {
    "application/vnd.databricks.v1+cell": {
     "cellMetadata": {
      "byteLimit": 2048000,
      "rowLimit": 10000
     },
     "inputWidgets": {},
     "nuid": "fac6b719-4c19-40e0-958f-7c99ff57f694",
     "showTitle": false,
     "tableResultSettingsMap": {},
     "title": ""
    }
   },
   "outputs": [],
   "source": [
    "# Top Posts by Engagement (sorted by score)\n",
    "top_posts_engagement = posts_df.select(\"title\", \"author\", \"score\").orderBy(desc(\"score\")).limit(3)\n",
    "\n",
    "# Save the top posts table\n",
    "top_posts_engagement.write.format(\"delta\").mode(\"overwrite\").saveAsTable(\"workspace.default.top_posts_engagement_gold\")\n"
   ]
  },
  {
   "cell_type": "code",
   "execution_count": 0,
   "metadata": {
    "application/vnd.databricks.v1+cell": {
     "cellMetadata": {
      "byteLimit": 2048000,
      "rowLimit": 10000
     },
     "inputWidgets": {},
     "nuid": "ace555b7-5703-4289-bd6d-5c65598cb2d8",
     "showTitle": false,
     "tableResultSettingsMap": {},
     "title": ""
    }
   },
   "outputs": [],
   "source": [
    "# Join posts with their comments\n",
    "post_comment_correlation = posts_df.alias(\"p\").join(comments_df.alias(\"c\"), \n",
    "          col(\"p.id\") == regexp_replace(col(\"c.link_id\"), \"t3_\", \"\"), \n",
    "          \"inner\").select(\n",
    "        col(\"p.id\").alias(\"post_id\"),\n",
    "        col(\"p.title\").alias(\"post_title\"),\n",
    "        col(\"p.author\").alias(\"post_author\"),\n",
    "        col(\"p.score\").alias(\"post_score\"),\n",
    "        col(\"c.id\").alias(\"comment_id\"),\n",
    "        col(\"c.author\").alias(\"comment_author\"), \n",
    "        col(\"c.score\").alias(\"comment_score\")\n",
    "    )\n",
    "\n",
    "# Aggregate: Post score vs comment performance\n",
    "post_vs_comment_scores = post_comment_correlation.groupBy(\"post_id\", \"post_title\", \"post_author\", \"post_score\").agg(\n",
    "        count(\"comment_id\").alias(\"total_comments\"),\n",
    "        avg(\"comment_score\").alias(\"avg_comment_score\"),\n",
    "        sum(\"comment_score\").alias(\"total_comment_score\") \n",
    "    ).filter(col(\"total_comments\") >= 3).orderBy(desc(\"post_score\"))\n",
    "\n",
    "post_vs_comment_scores.write.format(\"delta\").mode(\"overwrite\").saveAsTable(\"workspace.default.posts_comments_correlation_gold\")\n"
   ]
  },
  {
   "cell_type": "code",
   "execution_count": 0,
   "metadata": {
    "application/vnd.databricks.v1+cell": {
     "cellMetadata": {
      "byteLimit": 2048000,
      "rowLimit": 10000
     },
     "inputWidgets": {},
     "nuid": "cbfcba43-bf40-40a5-b007-09cb1871cde5",
     "showTitle": false,
     "tableResultSettingsMap": {},
     "title": ""
    }
   },
   "outputs": [],
   "source": [
    "top_commenters = comments_df.groupBy(\"author\").agg(\n",
    "        count(\"id\").alias(\"total_comments\"),\n",
    "        avg(\"score\").alias(\"avg_comment_score\"),\n",
    "        max(\"score\").alias(\"max_comment_score\"), \n",
    "        sum(\"score\").alias(\"total_comment_score\")\n",
    "    ).filter(col(\"total_comments\") >= 3).orderBy(desc(\"total_comment_score\"))\n",
    "\n",
    "top_commenters.write.format(\"delta\").mode(\"overwrite\").saveAsTable(\"workspace.default.top_commenters_gold\")\n"
   ]
  }
 ],
 "metadata": {
  "application/vnd.databricks.v1+notebook": {
   "computePreferences": null,
   "dashboards": [],
   "environmentMetadata": {
    "base_environment": "",
    "environment_version": "2"
   },
   "inputWidgetPreferences": null,
   "language": "python",
   "notebookMetadata": {
    "pythonIndentUnit": 4
   },
   "notebookName": "Gold",
   "widgets": {}
  },
  "language_info": {
   "name": "python"
  }
 },
 "nbformat": 4,
 "nbformat_minor": 0
}