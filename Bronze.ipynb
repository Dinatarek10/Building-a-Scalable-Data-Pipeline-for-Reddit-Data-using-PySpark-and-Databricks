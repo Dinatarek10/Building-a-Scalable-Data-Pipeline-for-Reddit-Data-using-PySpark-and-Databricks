{
 "cells": [
  {
   "cell_type": "code",
   "execution_count": 0,
   "metadata": {
    "application/vnd.databricks.v1+cell": {
     "cellMetadata": {
      "byteLimit": 2048000,
      "rowLimit": 10000
     },
     "inputWidgets": {},
     "nuid": "a6b12f27-b3b4-4791-b6ef-3c0640695ed6",
     "showTitle": false,
     "tableResultSettingsMap": {},
     "title": ""
    }
   },
   "outputs": [],
   "source": [
    "from pyspark.sql import SparkSession\n",
    "\n",
    "spark = SparkSession.builder.getOrCreate()"
   ]
  },
  {
   "cell_type": "code",
   "execution_count": 0,
   "metadata": {
    "application/vnd.databricks.v1+cell": {
     "cellMetadata": {
      "byteLimit": 2048000,
      "rowLimit": 10000
     },
     "inputWidgets": {},
     "nuid": "0aa410ed-96e5-4d2a-a26c-cee8fd88b181",
     "showTitle": false,
     "tableResultSettingsMap": {},
     "title": ""
    }
   },
   "outputs": [
    {
     "output_type": "stream",
     "name": "stdout",
     "output_type": "stream",
     "text": [
      "+-------+--------------------+------------------+-----+------------+-------------+----------+\n|     id|               title|            author|score|num_comments|  created_utc| subreddit|\n+-------+--------------------+------------------+-----+------------+-------------+----------+\n|1mniom8|Reddit will block...|MarvelsGrantMan136|15679|        1232| 1.75493185E9|technology|\n|1mn95cp|A massive Wyoming...|      DJMagicHandz|24928|        1520|1.754907463E9|technology|\n|1mnghv6|RFK Jr. wants a w...|        DonkeyFuel| 3133|         436|1.754927069E9|technology|\n|1mngvle|GitHub is no long...|       TheOneByron| 1173|          85|1.754927897E9|technology|\n|1mnekv7|Ford Aims for Rev...|        DonkeyFuel| 1391|         337|1.754922695E9|technology|\n|1mnmlp9|Eye-Popping Elect...|           upyoars|  455|          65|1.754940514E9|technology|\n|1mneaip|TeaOnHer, a rival...|   LookAtThatBacon| 1140|         166|1.754922023E9|technology|\n|1mnlnco|Trump Confirms Nv...|          Valinaut|  494|         109|1.754938332E9|technology|\n|1mnauhz|Man develops rare...|         chrisdh79| 1597|         175|1.754913081E9|technology|\n|1mn7v4k|Danish programmer...|        smilelyzen| 1690|          58|1.754902614E9|technology|\n+-------+--------------------+------------------+-----+------------+-------------+----------+\n\n"
     ]
    }
   ],
   "source": [
    "posts_df= spark.read.csv(\"/Volumes/workspace/default/raw/cleaned_posts.csv\", header=True, inferSchema=True)\n",
    "posts_df.show()"
   ]
  },
  {
   "cell_type": "code",
   "execution_count": 0,
   "metadata": {
    "application/vnd.databricks.v1+cell": {
     "cellMetadata": {
      "byteLimit": 2048000,
      "rowLimit": 10000
     },
     "inputWidgets": {},
     "nuid": "298fa549-555f-4f23-9227-a0e4ca95acda",
     "showTitle": false,
     "tableResultSettingsMap": {},
     "title": ""
    }
   },
   "outputs": [
    {
     "output_type": "stream",
     "name": "stdout",
     "output_type": "stream",
     "text": [
      "+-------+--------------------+--------------------+-----+-------------+----------+----------+\n|     id|              author|                body|score|  created_utc| parent_id|   link_id|\n+-------+--------------------+--------------------+-----+-------------+----------+----------+\n|n853d05|  JamesTiberiusCrunk|Entirely because ...| 7777|1.754932042E9|t3_1mniom8|t3_1mniom8|\n|n852wwp| FollowingFeisty5321|Outrageous especi...| 7232|1.754931914E9|t3_1mniom8|t3_1mniom8|\n|n85718n|         MyLovelyMan|It's no coinciden...| 2410|1.754933092E9|t3_1mniom8|t3_1mniom8|\n|n853ihn|extremetolerance2013|So to protect thi...| 1435|1.754932085E9|t3_1mniom8|t3_1mniom8|\n|n855qr7| ParticularBeing6686|Someone should ma...|  485|1.754932723E9|t3_1mniom8|t3_1mniom8|\n|n853onj|            theverge|Thanks for sharin...|  776|1.754932136E9|t3_1mniom8|t3_1mniom8|\n|n85ly5l|            tgwombat|Burning down the ...|   58|1.754937477E9|t3_1mniom8|t3_1mniom8|\n|n857c1f|        Searchlights|This is the same ...|  122|1.754933177E9|t3_1mniom8|t3_1mniom8|\n|n855jqs|             olewiki|Oh the irony of R...|  113|1.754932667E9|t3_1mniom8|t3_1mniom8|\n|n857vn3|         Many-Waters|I'm tired of AI d...|  275| 1.75493333E9|t3_1mniom8|t3_1mniom8|\n|n85586r|        Knightbear49|Is this post gonn...|   63|1.754932575E9|t3_1mniom8|t3_1mniom8|\n|n856g4d|        ElPlatanaso2|Can this website ...|   69|1.754932926E9|t3_1mniom8|t3_1mniom8|\n|n85sr49|           defeater-|This is your dail...|   24|1.754939544E9|t3_1mniom8|t3_1mniom8|\n|n85c2ss|           Sarmelion|Vile behavior  co...|   39|1.754934525E9|t3_1mniom8|t3_1mniom8|\n|n853ov5|     BigBlackHungGuy|Reddit says that ...|  126|1.754932137E9|t3_1mniom8|t3_1mniom8|\n|n85f505|          ThaddeusJP|I really do belie...|   15|1.754935413E9|t3_1mniom8|t3_1mniom8|\n|n85r7na|        MoonBatsRule|This makes zero s...|   13|1.754939081E9|t3_1mniom8|t3_1mniom8|\n|n856rbl|     ConfidentDragon|I think Reddit's ...|   31|1.754933015E9|t3_1mniom8|t3_1mniom8|\n|n85868m|            Tadao608|Absolutely foolis...|   13|1.754933412E9|t3_1mniom8|t3_1mniom8|\n|n85cjd0|       NewTickyTocky|Fucking reddit co...|   24|1.754934656E9|t3_1mniom8|t3_1mniom8|\n+-------+--------------------+--------------------+-----+-------------+----------+----------+\nonly showing top 20 rows\n"
     ]
    }
   ],
   "source": [
    "comments_df= spark.read.csv(\"/Volumes/workspace/default/raw/cleaned_comments (1).csv\", header=True, inferSchema=True)\n",
    "comments_df.show()"
   ]
  },
  {
   "cell_type": "code",
   "execution_count": 0,
   "metadata": {
    "application/vnd.databricks.v1+cell": {
     "cellMetadata": {
      "byteLimit": 2048000,
      "rowLimit": 10000
     },
     "inputWidgets": {},
     "nuid": "ba11734f-00c7-4275-bee4-168911b07d60",
     "showTitle": false,
     "tableResultSettingsMap": {},
     "title": ""
    }
   },
   "outputs": [],
   "source": [
    "posts_df.write.format(\"delta\").mode(\"overwrite\").saveAsTable(\"workspace.default.posts_bronze\")\n",
    "comments_df.write.format(\"delta\").mode(\"overwrite\").saveAsTable(\"workspace.default.comments_bronze\")"
   ]
  }
 ],
 "metadata": {
  "application/vnd.databricks.v1+notebook": {
   "computePreferences": null,
   "dashboards": [],
   "environmentMetadata": {
    "base_environment": "",
    "environment_version": "2"
   },
   "inputWidgetPreferences": null,
   "language": "python",
   "notebookMetadata": {
    "pythonIndentUnit": 4
   },
   "notebookName": "Bronze",
   "widgets": {}
  },
  "language_info": {
   "name": "python"
  }
 },
 "nbformat": 4,
 "nbformat_minor": 0
}